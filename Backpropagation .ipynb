{
 "cells": [
  {
   "cell_type": "code",
   "execution_count": 1,
   "id": "2369a879",
   "metadata": {},
   "outputs": [
    {
     "name": "stdout",
     "output_type": "stream",
     "text": [
      "Outputs: 0.7514044524275139 0.7729760524059158\n",
      "Updated Weights:\n",
      "w1, w2, w3, w4: [0.14982142587210845, 0.19979652631822406, 0.2496428517442169, 0.2995930526364481]\n",
      "w5, w6, w7, w8: [0.3638322020897263, 0.41372227870602696, 0.511320082807667, 0.5613544874957562]\n"
     ]
    }
   ],
   "source": [
    "def sigmoid(x):\n",
    "    return 1 / (1 + (2.71828 ** -x))\n",
    "\n",
    "def sigmoid_derivative(x):\n",
    "    return x * (1 - x)\n",
    "\n",
    "inputs = [0.05, 0.10]\n",
    "weights_input_hidden = [0.15, 0.20, 0.25, 0.30]  \n",
    "bias_hidden = [0.35, 0.35]\n",
    "weights_hidden_output = [0.40, 0.45, 0.50, 0.55]  \n",
    "bias_output = [0.60, 0.60]\n",
    "targets = [0.1, 0.99]\n",
    "learning_rate = 0.5\n",
    "\n",
    "h1_input = inputs[0] * weights_input_hidden[0] + inputs[1] * weights_input_hidden[2] + bias_hidden[0]\n",
    "h2_input = inputs[0] * weights_input_hidden[1] + inputs[1] * weights_input_hidden[3] + bias_hidden[1]\n",
    "h1_output, h2_output = sigmoid(h1_input), sigmoid(h2_input)\n",
    "\n",
    "o1_input = h1_output * weights_hidden_output[0] + h2_output * weights_hidden_output[1] + bias_output[0]\n",
    "o2_input = h1_output * weights_hidden_output[2] + h2_output * weights_hidden_output[3] + bias_output[1]\n",
    "o1_output, o2_output = sigmoid(o1_input), sigmoid(o2_input)\n",
    "\n",
    "error_o1, error_o2 = targets[0] - o1_output, targets[1] - o2_output\n",
    "grad_o1, grad_o2 = error_o1 * sigmoid_derivative(o1_output), error_o2 * sigmoid_derivative(o2_output)\n",
    "\n",
    "grad_h1 = (grad_o1 * weights_hidden_output[0] + grad_o2 * weights_hidden_output[2]) * sigmoid_derivative(h1_output)\n",
    "grad_h2 = (grad_o1 * weights_hidden_output[1] + grad_o2 * weights_hidden_output[3]) * sigmoid_derivative(h2_output)\n",
    "\n",
    "weights_hidden_output[0] += learning_rate * h1_output * grad_o1  # w5\n",
    "weights_hidden_output[1] += learning_rate * h2_output * grad_o1  # w6\n",
    "weights_hidden_output[2] += learning_rate * h1_output * grad_o2  # w7\n",
    "weights_hidden_output[3] += learning_rate * h2_output * grad_o2  # w8\n",
    "\n",
    "weights_input_hidden[0] += learning_rate * inputs[0] * grad_h1  # w1\n",
    "weights_input_hidden[1] += learning_rate * inputs[0] * grad_h2  # w2\n",
    "weights_input_hidden[2] += learning_rate * inputs[1] * grad_h1  # w3\n",
    "weights_input_hidden[3] += learning_rate * inputs[1] * grad_h2  # w4\n",
    "\n",
    "bias_output[0] += learning_rate * grad_o1\n",
    "bias_output[1] += learning_rate * grad_o2\n",
    "bias_hidden[0] += learning_rate * grad_h1\n",
    "bias_hidden[1] += learning_rate * grad_h2\n",
    "\n",
    "print(\"Outputs:\", o1_output, o2_output)\n",
    "print(\"Updated Weights:\")\n",
    "print(\"w1, w2, w3, w4:\", weights_input_hidden)\n",
    "print(\"w5, w6, w7, w8:\", weights_hidden_output)"
   ]
  },
  {
   "cell_type": "code",
   "execution_count": null,
   "id": "4f249b32",
   "metadata": {},
   "outputs": [],
   "source": []
  }
 ],
 "metadata": {
  "kernelspec": {
   "display_name": "Python 3 (ipykernel)",
   "language": "python",
   "name": "python3"
  },
  "language_info": {
   "codemirror_mode": {
    "name": "ipython",
    "version": 3
   },
   "file_extension": ".py",
   "mimetype": "text/x-python",
   "name": "python",
   "nbconvert_exporter": "python",
   "pygments_lexer": "ipython3",
   "version": "3.9.13"
  }
 },
 "nbformat": 4,
 "nbformat_minor": 5
}
